{
 "cells": [
  {
   "cell_type": "code",
   "execution_count": 2,
   "metadata": {},
   "outputs": [],
   "source": [
    "import pandas as pd\n",
    "import numpy as np"
   ]
  },
  {
   "cell_type": "markdown",
   "metadata": {},
   "source": [
    "## Import HDF train and test data"
   ]
  },
  {
   "cell_type": "code",
   "execution_count": 3,
   "metadata": {},
   "outputs": [],
   "source": [
    "df = pd.read_hdf(\"/Users/aj/docs/useful/sem3/MLDM project/data & codes/train.hdf5\")"
   ]
  },
  {
   "cell_type": "code",
   "execution_count": 4,
   "metadata": {},
   "outputs": [],
   "source": [
    "df_test = pd.read_hdf(\"/Users/aj/docs/useful/sem3/MLDM project/data & codes/validation.hdf5\")"
   ]
  },
  {
   "cell_type": "code",
   "execution_count": 5,
   "metadata": {},
   "outputs": [
    {
     "data": {
      "text/html": [
       "<div>\n",
       "<style scoped>\n",
       "    .dataframe tbody tr th:only-of-type {\n",
       "        vertical-align: middle;\n",
       "    }\n",
       "\n",
       "    .dataframe tbody tr th {\n",
       "        vertical-align: top;\n",
       "    }\n",
       "\n",
       "    .dataframe thead th {\n",
       "        text-align: right;\n",
       "    }\n",
       "</style>\n",
       "<table border=\"1\" class=\"dataframe\">\n",
       "  <thead>\n",
       "    <tr style=\"text-align: right;\">\n",
       "      <th></th>\n",
       "      <th>0</th>\n",
       "      <th>1</th>\n",
       "      <th>2</th>\n",
       "      <th>3</th>\n",
       "      <th>4</th>\n",
       "      <th>5</th>\n",
       "      <th>6</th>\n",
       "      <th>7</th>\n",
       "      <th>8</th>\n",
       "      <th>9</th>\n",
       "      <th>...</th>\n",
       "      <th>61430</th>\n",
       "      <th>61431</th>\n",
       "      <th>61432</th>\n",
       "      <th>61433</th>\n",
       "      <th>61434</th>\n",
       "      <th>61435</th>\n",
       "      <th>61436</th>\n",
       "      <th>61437</th>\n",
       "      <th>61438</th>\n",
       "      <th>61439</th>\n",
       "    </tr>\n",
       "  </thead>\n",
       "  <tbody>\n",
       "    <tr>\n",
       "      <td>0</td>\n",
       "      <td>0.041259</td>\n",
       "      <td>0.041259</td>\n",
       "      <td>0.032573</td>\n",
       "      <td>0.023887</td>\n",
       "      <td>0.029315</td>\n",
       "      <td>0.041259</td>\n",
       "      <td>0.045602</td>\n",
       "      <td>0.038001</td>\n",
       "      <td>0.030401</td>\n",
       "      <td>0.032573</td>\n",
       "      <td>...</td>\n",
       "      <td>0.034744</td>\n",
       "      <td>-0.007600</td>\n",
       "      <td>-0.003257</td>\n",
       "      <td>0.065145</td>\n",
       "      <td>0.047773</td>\n",
       "      <td>-0.009772</td>\n",
       "      <td>0.031487</td>\n",
       "      <td>0.096632</td>\n",
       "      <td>0.077089</td>\n",
       "      <td>0.040173</td>\n",
       "    </tr>\n",
       "    <tr>\n",
       "      <td>1</td>\n",
       "      <td>-0.211722</td>\n",
       "      <td>-0.264924</td>\n",
       "      <td>-0.274696</td>\n",
       "      <td>-0.236694</td>\n",
       "      <td>-0.156349</td>\n",
       "      <td>-0.059716</td>\n",
       "      <td>0.005429</td>\n",
       "      <td>0.046687</td>\n",
       "      <td>0.153091</td>\n",
       "      <td>0.281210</td>\n",
       "      <td>...</td>\n",
       "      <td>0.260581</td>\n",
       "      <td>-0.004343</td>\n",
       "      <td>-0.241037</td>\n",
       "      <td>-0.636252</td>\n",
       "      <td>-0.953292</td>\n",
       "      <td>-0.980436</td>\n",
       "      <td>-0.846888</td>\n",
       "      <td>-0.838202</td>\n",
       "      <td>-0.880546</td>\n",
       "      <td>-0.739398</td>\n",
       "    </tr>\n",
       "    <tr>\n",
       "      <td>2</td>\n",
       "      <td>0.214105</td>\n",
       "      <td>0.154930</td>\n",
       "      <td>0.136640</td>\n",
       "      <td>0.013987</td>\n",
       "      <td>-0.038733</td>\n",
       "      <td>-0.015063</td>\n",
       "      <td>-0.111894</td>\n",
       "      <td>-0.104363</td>\n",
       "      <td>0.047340</td>\n",
       "      <td>-0.054871</td>\n",
       "      <td>...</td>\n",
       "      <td>0.040884</td>\n",
       "      <td>0.375490</td>\n",
       "      <td>0.699337</td>\n",
       "      <td>0.965085</td>\n",
       "      <td>1.086662</td>\n",
       "      <td>1.132926</td>\n",
       "      <td>1.279249</td>\n",
       "      <td>1.296464</td>\n",
       "      <td>0.937112</td>\n",
       "      <td>0.451879</td>\n",
       "    </tr>\n",
       "    <tr>\n",
       "      <td>3</td>\n",
       "      <td>-0.154837</td>\n",
       "      <td>-0.127768</td>\n",
       "      <td>-0.217638</td>\n",
       "      <td>-0.284770</td>\n",
       "      <td>-0.299929</td>\n",
       "      <td>-0.270694</td>\n",
       "      <td>-0.077960</td>\n",
       "      <td>0.092036</td>\n",
       "      <td>0.076877</td>\n",
       "      <td>0.154837</td>\n",
       "      <td>...</td>\n",
       "      <td>-0.286936</td>\n",
       "      <td>-0.171079</td>\n",
       "      <td>-0.036814</td>\n",
       "      <td>-0.024904</td>\n",
       "      <td>0.031400</td>\n",
       "      <td>0.140761</td>\n",
       "      <td>-0.011911</td>\n",
       "      <td>-0.173244</td>\n",
       "      <td>-0.063884</td>\n",
       "      <td>0.081208</td>\n",
       "    </tr>\n",
       "    <tr>\n",
       "      <td>4</td>\n",
       "      <td>-1.022780</td>\n",
       "      <td>-0.916376</td>\n",
       "      <td>-0.676425</td>\n",
       "      <td>-0.461445</td>\n",
       "      <td>-0.330069</td>\n",
       "      <td>-0.122690</td>\n",
       "      <td>0.178064</td>\n",
       "      <td>0.489675</td>\n",
       "      <td>0.799115</td>\n",
       "      <td>0.931577</td>\n",
       "      <td>...</td>\n",
       "      <td>1.009751</td>\n",
       "      <td>1.134613</td>\n",
       "      <td>0.836030</td>\n",
       "      <td>0.479903</td>\n",
       "      <td>0.109661</td>\n",
       "      <td>-0.285553</td>\n",
       "      <td>-0.628651</td>\n",
       "      <td>-0.916376</td>\n",
       "      <td>-1.010837</td>\n",
       "      <td>-0.804544</td>\n",
       "    </tr>\n",
       "  </tbody>\n",
       "</table>\n",
       "<p>5 rows × 61440 columns</p>\n",
       "</div>"
      ],
      "text/plain": [
       "      0         1         2         3         4         5         6      \\\n",
       "0  0.041259  0.041259  0.032573  0.023887  0.029315  0.041259  0.045602   \n",
       "1 -0.211722 -0.264924 -0.274696 -0.236694 -0.156349 -0.059716  0.005429   \n",
       "2  0.214105  0.154930  0.136640  0.013987 -0.038733 -0.015063 -0.111894   \n",
       "3 -0.154837 -0.127768 -0.217638 -0.284770 -0.299929 -0.270694 -0.077960   \n",
       "4 -1.022780 -0.916376 -0.676425 -0.461445 -0.330069 -0.122690  0.178064   \n",
       "\n",
       "      7         8         9      ...     61430     61431     61432     61433  \\\n",
       "0  0.038001  0.030401  0.032573  ...  0.034744 -0.007600 -0.003257  0.065145   \n",
       "1  0.046687  0.153091  0.281210  ...  0.260581 -0.004343 -0.241037 -0.636252   \n",
       "2 -0.104363  0.047340 -0.054871  ...  0.040884  0.375490  0.699337  0.965085   \n",
       "3  0.092036  0.076877  0.154837  ... -0.286936 -0.171079 -0.036814 -0.024904   \n",
       "4  0.489675  0.799115  0.931577  ...  1.009751  1.134613  0.836030  0.479903   \n",
       "\n",
       "      61434     61435     61436     61437     61438     61439  \n",
       "0  0.047773 -0.009772  0.031487  0.096632  0.077089  0.040173  \n",
       "1 -0.953292 -0.980436 -0.846888 -0.838202 -0.880546 -0.739398  \n",
       "2  1.086662  1.132926  1.279249  1.296464  0.937112  0.451879  \n",
       "3  0.031400  0.140761 -0.011911 -0.173244 -0.063884  0.081208  \n",
       "4  0.109661 -0.285553 -0.628651 -0.916376 -1.010837 -0.804544  \n",
       "\n",
       "[5 rows x 61440 columns]"
      ]
     },
     "execution_count": 5,
     "metadata": {},
     "output_type": "execute_result"
    }
   ],
   "source": [
    "df.head()"
   ]
  },
  {
   "cell_type": "code",
   "execution_count": 6,
   "metadata": {},
   "outputs": [],
   "source": [
    "## 1024 hz for 60 minute our original data , 1024*60 = 61440\n",
    "## now lets try to make window over 24 hz"
   ]
  },
  {
   "cell_type": "code",
   "execution_count": 7,
   "metadata": {},
   "outputs": [
    {
     "data": {
      "text/plain": [
       "2560.0"
      ]
     },
     "execution_count": 7,
     "metadata": {},
     "output_type": "execute_result"
    }
   ],
   "source": [
    "61440/24"
   ]
  },
  {
   "cell_type": "code",
   "execution_count": 8,
   "metadata": {},
   "outputs": [
    {
     "data": {
      "text/plain": [
       "1677"
      ]
     },
     "execution_count": 8,
     "metadata": {},
     "output_type": "execute_result"
    }
   ],
   "source": [
    "len(df)"
   ]
  },
  {
   "cell_type": "code",
   "execution_count": 9,
   "metadata": {},
   "outputs": [],
   "source": [
    "col_names = [i for i in range(2560)]"
   ]
  },
  {
   "cell_type": "code",
   "execution_count": 10,
   "metadata": {},
   "outputs": [],
   "source": [
    "#new_df = pd.DataFrame([np.nan]*1677, columns=[i for i in range(2560)])\n",
    "new_df = pd.DataFrame(np.nan,index=[i for i in range(1677)], columns=col_names)"
   ]
  },
  {
   "cell_type": "code",
   "execution_count": 11,
   "metadata": {},
   "outputs": [
    {
     "name": "stdout",
     "output_type": "stream",
     "text": [
      "100 row finished\n",
      "100 row finished\n",
      "100 row finished\n",
      "100 row finished\n",
      "100 row finished\n",
      "100 row finished\n",
      "100 row finished\n",
      "100 row finished\n",
      "100 row finished\n",
      "100 row finished\n",
      "100 row finished\n",
      "100 row finished\n",
      "100 row finished\n",
      "100 row finished\n",
      "100 row finished\n",
      "100 row finished\n"
     ]
    }
   ],
   "source": [
    "counter = 0\n",
    "\n",
    "addition_number = 24\n",
    "new_total_column_number = 2560\n",
    "for row in range(len(df)):\n",
    "    \n",
    "    start_point = 0\n",
    "    finish_point = 24\n",
    "    \n",
    "    for sub_col in range(new_total_column_number):\n",
    "        \n",
    "        assigned_value = np.average(df.iloc[row][start_point:finish_point].values)\n",
    "        new_df.iloc[row][sub_col] = assigned_value\n",
    "        start_point = start_point + addition_number\n",
    "        finish_point = finish_point + addition_number\n",
    "        \n",
    "    counter = counter + 1\n",
    "    if counter%100 == 0:\n",
    "        print(\"100 row finished\")"
   ]
  },
  {
   "cell_type": "code",
   "execution_count": 12,
   "metadata": {},
   "outputs": [
    {
     "data": {
      "text/html": [
       "<div>\n",
       "<style scoped>\n",
       "    .dataframe tbody tr th:only-of-type {\n",
       "        vertical-align: middle;\n",
       "    }\n",
       "\n",
       "    .dataframe tbody tr th {\n",
       "        vertical-align: top;\n",
       "    }\n",
       "\n",
       "    .dataframe thead th {\n",
       "        text-align: right;\n",
       "    }\n",
       "</style>\n",
       "<table border=\"1\" class=\"dataframe\">\n",
       "  <thead>\n",
       "    <tr style=\"text-align: right;\">\n",
       "      <th></th>\n",
       "      <th>0</th>\n",
       "      <th>1</th>\n",
       "      <th>2</th>\n",
       "      <th>3</th>\n",
       "      <th>4</th>\n",
       "      <th>5</th>\n",
       "      <th>6</th>\n",
       "      <th>7</th>\n",
       "      <th>8</th>\n",
       "      <th>9</th>\n",
       "      <th>...</th>\n",
       "      <th>2550</th>\n",
       "      <th>2551</th>\n",
       "      <th>2552</th>\n",
       "      <th>2553</th>\n",
       "      <th>2554</th>\n",
       "      <th>2555</th>\n",
       "      <th>2556</th>\n",
       "      <th>2557</th>\n",
       "      <th>2558</th>\n",
       "      <th>2559</th>\n",
       "    </tr>\n",
       "  </thead>\n",
       "  <tbody>\n",
       "    <tr>\n",
       "      <td>1672</td>\n",
       "      <td>0.031738</td>\n",
       "      <td>0.106392</td>\n",
       "      <td>-0.040916</td>\n",
       "      <td>-0.016151</td>\n",
       "      <td>0.164024</td>\n",
       "      <td>-0.143617</td>\n",
       "      <td>-0.133567</td>\n",
       "      <td>0.002000</td>\n",
       "      <td>0.123877</td>\n",
       "      <td>0.086037</td>\n",
       "      <td>...</td>\n",
       "      <td>-0.027534</td>\n",
       "      <td>-0.068296</td>\n",
       "      <td>0.099419</td>\n",
       "      <td>-0.133208</td>\n",
       "      <td>0.005025</td>\n",
       "      <td>0.134542</td>\n",
       "      <td>-0.085268</td>\n",
       "      <td>0.006050</td>\n",
       "      <td>0.141156</td>\n",
       "      <td>-0.068860</td>\n",
       "    </tr>\n",
       "    <tr>\n",
       "      <td>1673</td>\n",
       "      <td>0.079431</td>\n",
       "      <td>0.068105</td>\n",
       "      <td>-0.185238</td>\n",
       "      <td>-0.090958</td>\n",
       "      <td>-0.031108</td>\n",
       "      <td>-0.066595</td>\n",
       "      <td>-0.168526</td>\n",
       "      <td>-0.311633</td>\n",
       "      <td>-0.110690</td>\n",
       "      <td>0.014698</td>\n",
       "      <td>...</td>\n",
       "      <td>-0.019732</td>\n",
       "      <td>-0.013037</td>\n",
       "      <td>-0.008759</td>\n",
       "      <td>0.010067</td>\n",
       "      <td>0.044900</td>\n",
       "      <td>-0.000856</td>\n",
       "      <td>-0.016410</td>\n",
       "      <td>-0.007299</td>\n",
       "      <td>0.004631</td>\n",
       "      <td>0.022299</td>\n",
       "    </tr>\n",
       "    <tr>\n",
       "      <td>1674</td>\n",
       "      <td>0.053387</td>\n",
       "      <td>-0.072182</td>\n",
       "      <td>-0.032002</td>\n",
       "      <td>0.172354</td>\n",
       "      <td>0.074417</td>\n",
       "      <td>-0.117544</td>\n",
       "      <td>-0.255660</td>\n",
       "      <td>-0.045666</td>\n",
       "      <td>0.146549</td>\n",
       "      <td>0.082291</td>\n",
       "      <td>...</td>\n",
       "      <td>-0.013410</td>\n",
       "      <td>0.001575</td>\n",
       "      <td>-0.005943</td>\n",
       "      <td>0.029564</td>\n",
       "      <td>0.017474</td>\n",
       "      <td>-0.032967</td>\n",
       "      <td>-0.037640</td>\n",
       "      <td>-0.088539</td>\n",
       "      <td>-0.037742</td>\n",
       "      <td>0.036421</td>\n",
       "    </tr>\n",
       "    <tr>\n",
       "      <td>1675</td>\n",
       "      <td>0.034681</td>\n",
       "      <td>-0.018792</td>\n",
       "      <td>-0.013954</td>\n",
       "      <td>0.015940</td>\n",
       "      <td>-0.075321</td>\n",
       "      <td>-0.020727</td>\n",
       "      <td>-0.050367</td>\n",
       "      <td>-0.041251</td>\n",
       "      <td>-0.004482</td>\n",
       "      <td>-0.106997</td>\n",
       "      <td>...</td>\n",
       "      <td>-0.020880</td>\n",
       "      <td>-0.024954</td>\n",
       "      <td>-0.023579</td>\n",
       "      <td>-0.011102</td>\n",
       "      <td>-0.013241</td>\n",
       "      <td>-0.020829</td>\n",
       "      <td>-0.018283</td>\n",
       "      <td>-0.020982</td>\n",
       "      <td>-0.038755</td>\n",
       "      <td>-0.010440</td>\n",
       "    </tr>\n",
       "    <tr>\n",
       "      <td>1676</td>\n",
       "      <td>0.062829</td>\n",
       "      <td>0.063806</td>\n",
       "      <td>0.063138</td>\n",
       "      <td>0.065400</td>\n",
       "      <td>0.062007</td>\n",
       "      <td>0.063498</td>\n",
       "      <td>0.063755</td>\n",
       "      <td>0.060824</td>\n",
       "      <td>0.065246</td>\n",
       "      <td>0.063035</td>\n",
       "      <td>...</td>\n",
       "      <td>0.083190</td>\n",
       "      <td>0.083241</td>\n",
       "      <td>0.083550</td>\n",
       "      <td>0.083807</td>\n",
       "      <td>0.082470</td>\n",
       "      <td>0.081750</td>\n",
       "      <td>0.083858</td>\n",
       "      <td>0.084732</td>\n",
       "      <td>0.083807</td>\n",
       "      <td>0.084424</td>\n",
       "    </tr>\n",
       "  </tbody>\n",
       "</table>\n",
       "<p>5 rows × 2560 columns</p>\n",
       "</div>"
      ],
      "text/plain": [
       "          0         1         2         3         4         5         6     \\\n",
       "1672  0.031738  0.106392 -0.040916 -0.016151  0.164024 -0.143617 -0.133567   \n",
       "1673  0.079431  0.068105 -0.185238 -0.090958 -0.031108 -0.066595 -0.168526   \n",
       "1674  0.053387 -0.072182 -0.032002  0.172354  0.074417 -0.117544 -0.255660   \n",
       "1675  0.034681 -0.018792 -0.013954  0.015940 -0.075321 -0.020727 -0.050367   \n",
       "1676  0.062829  0.063806  0.063138  0.065400  0.062007  0.063498  0.063755   \n",
       "\n",
       "          7         8         9     ...      2550      2551      2552  \\\n",
       "1672  0.002000  0.123877  0.086037  ... -0.027534 -0.068296  0.099419   \n",
       "1673 -0.311633 -0.110690  0.014698  ... -0.019732 -0.013037 -0.008759   \n",
       "1674 -0.045666  0.146549  0.082291  ... -0.013410  0.001575 -0.005943   \n",
       "1675 -0.041251 -0.004482 -0.106997  ... -0.020880 -0.024954 -0.023579   \n",
       "1676  0.060824  0.065246  0.063035  ...  0.083190  0.083241  0.083550   \n",
       "\n",
       "          2553      2554      2555      2556      2557      2558      2559  \n",
       "1672 -0.133208  0.005025  0.134542 -0.085268  0.006050  0.141156 -0.068860  \n",
       "1673  0.010067  0.044900 -0.000856 -0.016410 -0.007299  0.004631  0.022299  \n",
       "1674  0.029564  0.017474 -0.032967 -0.037640 -0.088539 -0.037742  0.036421  \n",
       "1675 -0.011102 -0.013241 -0.020829 -0.018283 -0.020982 -0.038755 -0.010440  \n",
       "1676  0.083807  0.082470  0.081750  0.083858  0.084732  0.083807  0.084424  \n",
       "\n",
       "[5 rows x 2560 columns]"
      ]
     },
     "execution_count": 12,
     "metadata": {},
     "output_type": "execute_result"
    }
   ],
   "source": [
    "new_df.tail()"
   ]
  },
  {
   "cell_type": "code",
   "execution_count": 13,
   "metadata": {},
   "outputs": [],
   "source": [
    "new_df.to_hdf('data_24hz_train.h5', key='df', mode='w')"
   ]
  },
  {
   "cell_type": "code",
   "execution_count": 14,
   "metadata": {},
   "outputs": [],
   "source": [
    "#new_df = pd.DataFrame([np.nan]*1677, columns=[i for i in range(2560)])\n",
    "new_df_test = pd.DataFrame(np.nan,index=[i for i in range(594)], columns=col_names)"
   ]
  },
  {
   "cell_type": "code",
   "execution_count": 15,
   "metadata": {},
   "outputs": [
    {
     "name": "stdout",
     "output_type": "stream",
     "text": [
      "100 row finished\n",
      "100 row finished\n",
      "100 row finished\n",
      "100 row finished\n",
      "100 row finished\n"
     ]
    }
   ],
   "source": [
    "counter = 0\n",
    "\n",
    "addition_number = 24\n",
    "new_total_column_number = 2560\n",
    "for row in range(len(df_test)):\n",
    "    \n",
    "    start_point = 0\n",
    "    finish_point = 24\n",
    "    \n",
    "    for sub_col in range(new_total_column_number):\n",
    "        \n",
    "        assigned_value = np.average(df_test.iloc[row][start_point:finish_point].values)\n",
    "        new_df_test.iloc[row][sub_col] = assigned_value\n",
    "        start_point = start_point + addition_number\n",
    "        finish_point = finish_point + addition_number\n",
    "        \n",
    "    counter = counter + 1\n",
    "    if counter%100 == 0:\n",
    "        print(\"100 row finished\")"
   ]
  },
  {
   "cell_type": "code",
   "execution_count": 17,
   "metadata": {},
   "outputs": [],
   "source": [
    "new_df_test.to_hdf('data_24hz_test.h5', key='df', mode='w')"
   ]
  },
  {
   "cell_type": "markdown",
   "metadata": {},
   "source": [
    "## One Class Svm "
   ]
  },
  {
   "cell_type": "code",
   "execution_count": 16,
   "metadata": {},
   "outputs": [],
   "source": [
    "from sklearn.svm import OneClassSVM"
   ]
  },
  {
   "cell_type": "code",
   "execution_count": 17,
   "metadata": {},
   "outputs": [],
   "source": [
    "clf = OneClassSVM(gamma='auto',nu=0.125)"
   ]
  },
  {
   "cell_type": "code",
   "execution_count": 18,
   "metadata": {},
   "outputs": [
    {
     "data": {
      "text/plain": [
       "OneClassSVM(cache_size=200, coef0=0.0, degree=3, gamma='auto', kernel='rbf',\n",
       "            max_iter=-1, nu=0.125, random_state=None, shrinking=True, tol=0.001,\n",
       "            verbose=False)"
      ]
     },
     "execution_count": 18,
     "metadata": {},
     "output_type": "execute_result"
    }
   ],
   "source": [
    "clf.fit(new_df)"
   ]
  },
  {
   "cell_type": "code",
   "execution_count": 19,
   "metadata": {},
   "outputs": [],
   "source": [
    "result_list = clf.predict(new_df_test).tolist()"
   ]
  },
  {
   "cell_type": "code",
   "execution_count": 20,
   "metadata": {},
   "outputs": [],
   "source": [
    "new_result_list = []\n",
    "for i in result_list:\n",
    "    if i == -1:\n",
    "        new_result_list.append(1)\n",
    "    if i == 1:\n",
    "        new_result_list.append(0)"
   ]
  },
  {
   "cell_type": "code",
   "execution_count": 21,
   "metadata": {},
   "outputs": [],
   "source": [
    "sample_number_list = [i for i in range(594)]   #sample number list\n",
    "header = ['seqID', 'anomaly'] \n",
    "import csv\n",
    "\n",
    "with open('./will_upload_1.csv', 'w', newline='') as f:\n",
    "    w = csv.writer(f, delimiter=';')\n",
    "    w.writerow(header)\n",
    "    for row in zip(sample_number_list, new_result_list):\n",
    "        w.writerow(row)"
   ]
  },
  {
   "cell_type": "markdown",
   "metadata": {},
   "source": [
    "## Importing Labels for Cross Check "
   ]
  },
  {
   "cell_type": "code",
   "execution_count": 22,
   "metadata": {},
   "outputs": [],
   "source": [
    "#Open your submission file\n",
    "myfile = pd.read_csv(\"./will_upload_1.csv\", sep=\";\", index_col=0)"
   ]
  },
  {
   "cell_type": "code",
   "execution_count": 24,
   "metadata": {},
   "outputs": [],
   "source": [
    "#Open the labels file\n",
    "labels = pd.read_csv(\"Re__Re_/labels.csv\", sep=\",\", index_col=0)"
   ]
  },
  {
   "cell_type": "code",
   "execution_count": 25,
   "metadata": {},
   "outputs": [
    {
     "name": "stdout",
     "output_type": "stream",
     "text": [
      "Results: TP=262, FP=0, FN=35, TN=297\n"
     ]
    }
   ],
   "source": [
    "true_positive = 0\n",
    "true_negative = 0\n",
    "false_positive = 0\n",
    "false_negative = 0\n",
    "for i in range(594):\n",
    "    if labels.iloc[i][0] == myfile.iloc[i][0]:\n",
    "        if labels.iloc[i][0] == 1:\n",
    "            true_positive += 1\n",
    "        else:\n",
    "            true_negative += 1\n",
    "    else:\n",
    "        if labels.iloc[i][0] == 1:\n",
    "            false_negative += 1\n",
    "        else:\n",
    "            false_positive += 1\n",
    "print(\"Results: TP={0}, FP={1}, FN={2}, TN={3}\".format(true_positive, false_positive, false_negative, true_negative))"
   ]
  },
  {
   "cell_type": "markdown",
   "metadata": {},
   "source": [
    "## Calculating F1 Score"
   ]
  },
  {
   "cell_type": "code",
   "execution_count": 26,
   "metadata": {},
   "outputs": [
    {
     "name": "stdout",
     "output_type": "stream",
     "text": [
      "Results: F1=0.93739, Precision=1.0, Recall=0.88215\n"
     ]
    }
   ],
   "source": [
    "#Precision, Recall and F1 score\n",
    "precision = round(true_positive/(true_positive + false_positive),5)\n",
    "recall =  round(true_positive/(true_positive + false_negative),5)\n",
    "F1 =  round(((recall*precision)/(recall + precision))*2,5)\n",
    "print(\"Results: F1={0}, Precision={1}, Recall={2}\".format(F1, precision, recall))"
   ]
  }
 ],
 "metadata": {
  "kernelspec": {
   "display_name": "Python 3",
   "language": "python",
   "name": "python3"
  },
  "language_info": {
   "codemirror_mode": {
    "name": "ipython",
    "version": 3
   },
   "file_extension": ".py",
   "mimetype": "text/x-python",
   "name": "python",
   "nbconvert_exporter": "python",
   "pygments_lexer": "ipython3",
   "version": "3.7.3"
  }
 },
 "nbformat": 4,
 "nbformat_minor": 2
}
